{
 "cells": [
  {
   "cell_type": "code",
   "execution_count": null,
   "metadata": {},
   "outputs": [],
   "source": [
    "import matplotlib.pyplot as plt\n",
    "import pandas as pd\n",
    "\n",
    "# Загрузка данных\n",
    "data = pd.read_csv('/content/sample_data/Housing.csv')\n",
    "\n",
    "# Извлекаем данные из столбцов \"area\" и \"price\"\n",
    "X = data['area'].values\n",
    "y = data['price'].values\n",
    "\n",
    "# Вычисление средних значений X и y\n",
    "n = len(X)\n",
    "X_mean = sum(X) / n\n",
    "y_mean = sum(y) / n\n",
    "\n",
    "# Вычисление коэффициентов регрессии\n",
    "numerator = sum((X[i] - X_mean) * (y[i] - y_mean) for i in range(n))\n",
    "denominator = sum((X[i] - X_mean) ** 2 for i in range(n))\n",
    "a = numerator / denominator\n",
    "b = y_mean - a * X_mean\n",
    "\n",
    "# Предсказание на основе уравнения регрессии\n",
    "predicted_y = [a * x + b for x in X]\n",
    "\n",
    "# Создание графика\n",
    "fig, ax = plt.subplots()\n",
    "\n",
    "# График рассеяния данных\n",
    "plt.scatter(X, y, label='Область максимально возможного отклонения', color='blue')\n",
    "\n",
    "# График линейной регрессии\n",
    "plt.plot(X, predicted_y, label=f'Линейная регрессия: y = {a:.2f}x + {b:.2f}', color='red')\n",
    "\n",
    "# Настройка графика\n",
    "plt.xlabel('Площадь')\n",
    "plt.ylabel('Цена')\n",
    "plt.legend()\n",
    "plt.grid(True)\n",
    "plt.title('Own realization')\n",
    "\n",
    "# Отображение графика\n",
    "plt.show()"
   ]
  }
 ],
 "metadata": {
  "language_info": {
   "name": "python"
  },
  "orig_nbformat": 4
 },
 "nbformat": 4,
 "nbformat_minor": 2
}
